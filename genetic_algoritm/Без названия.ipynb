{
 "cells": [
  {
   "cell_type": "code",
   "execution_count": 14,
   "id": "chief-wales",
   "metadata": {},
   "outputs": [],
   "source": [
    "import numpy as np\n",
    "import pandas as pd"
   ]
  },
  {
   "cell_type": "code",
   "execution_count": 30,
   "id": "innocent-scope",
   "metadata": {},
   "outputs": [],
   "source": [
    "data = pd.read_csv('cities.csv')\n",
    "path_first = pd.read_csv('sample_submission.csv')"
   ]
  },
  {
   "cell_type": "code",
   "execution_count": 32,
   "id": "numerous-cloud",
   "metadata": {},
   "outputs": [],
   "source": [
    "first_path=[id for id in path_first[\"Path\"]]\n",
    "index_cities=[city_id for city_id in data[\"CityId\"]]\n",
    "coord_x = [x for x in data[\"X\"]]\n",
    "coord_y =[y for y in data[\"Y\"]]\n"
   ]
  },
  {
   "cell_type": "code",
   "execution_count": 33,
   "id": "legendary-slovakia",
   "metadata": {
    "scrolled": true
   },
   "outputs": [
    {
     "data": {
      "text/plain": [
       "1"
      ]
     },
     "execution_count": 33,
     "metadata": {},
     "output_type": "execute_result"
    }
   ],
   "source": [
    "first_path[1]"
   ]
  },
  {
   "cell_type": "code",
   "execution_count": 19,
   "id": "communist-handbook",
   "metadata": {},
   "outputs": [
    {
     "data": {
      "text/html": [
       "<div>\n",
       "<style scoped>\n",
       "    .dataframe tbody tr th:only-of-type {\n",
       "        vertical-align: middle;\n",
       "    }\n",
       "\n",
       "    .dataframe tbody tr th {\n",
       "        vertical-align: top;\n",
       "    }\n",
       "\n",
       "    .dataframe thead th {\n",
       "        text-align: right;\n",
       "    }\n",
       "</style>\n",
       "<table border=\"1\" class=\"dataframe\">\n",
       "  <thead>\n",
       "    <tr style=\"text-align: right;\">\n",
       "      <th></th>\n",
       "      <th>CityId</th>\n",
       "      <th>X</th>\n",
       "      <th>Y</th>\n",
       "    </tr>\n",
       "  </thead>\n",
       "  <tbody>\n",
       "    <tr>\n",
       "      <th>0</th>\n",
       "      <td>0</td>\n",
       "      <td>316.836739</td>\n",
       "      <td>2202.340707</td>\n",
       "    </tr>\n",
       "    <tr>\n",
       "      <th>1</th>\n",
       "      <td>1</td>\n",
       "      <td>4377.405972</td>\n",
       "      <td>336.602082</td>\n",
       "    </tr>\n",
       "    <tr>\n",
       "      <th>2</th>\n",
       "      <td>2</td>\n",
       "      <td>3454.158198</td>\n",
       "      <td>2820.053011</td>\n",
       "    </tr>\n",
       "    <tr>\n",
       "      <th>3</th>\n",
       "      <td>3</td>\n",
       "      <td>4688.099298</td>\n",
       "      <td>2935.898056</td>\n",
       "    </tr>\n",
       "    <tr>\n",
       "      <th>4</th>\n",
       "      <td>4</td>\n",
       "      <td>1010.696952</td>\n",
       "      <td>3236.750989</td>\n",
       "    </tr>\n",
       "    <tr>\n",
       "      <th>...</th>\n",
       "      <td>...</td>\n",
       "      <td>...</td>\n",
       "      <td>...</td>\n",
       "    </tr>\n",
       "    <tr>\n",
       "      <th>197764</th>\n",
       "      <td>197764</td>\n",
       "      <td>149.828018</td>\n",
       "      <td>3134.756986</td>\n",
       "    </tr>\n",
       "    <tr>\n",
       "      <th>197765</th>\n",
       "      <td>197765</td>\n",
       "      <td>2615.299239</td>\n",
       "      <td>2267.979286</td>\n",
       "    </tr>\n",
       "    <tr>\n",
       "      <th>197766</th>\n",
       "      <td>197766</td>\n",
       "      <td>4775.889874</td>\n",
       "      <td>3103.846228</td>\n",
       "    </tr>\n",
       "    <tr>\n",
       "      <th>197767</th>\n",
       "      <td>197767</td>\n",
       "      <td>2994.230955</td>\n",
       "      <td>1931.764344</td>\n",
       "    </tr>\n",
       "    <tr>\n",
       "      <th>197768</th>\n",
       "      <td>197768</td>\n",
       "      <td>1354.764778</td>\n",
       "      <td>3218.100625</td>\n",
       "    </tr>\n",
       "  </tbody>\n",
       "</table>\n",
       "<p>197769 rows × 3 columns</p>\n",
       "</div>"
      ],
      "text/plain": [
       "        CityId            X            Y\n",
       "0            0   316.836739  2202.340707\n",
       "1            1  4377.405972   336.602082\n",
       "2            2  3454.158198  2820.053011\n",
       "3            3  4688.099298  2935.898056\n",
       "4            4  1010.696952  3236.750989\n",
       "...        ...          ...          ...\n",
       "197764  197764   149.828018  3134.756986\n",
       "197765  197765  2615.299239  2267.979286\n",
       "197766  197766  4775.889874  3103.846228\n",
       "197767  197767  2994.230955  1931.764344\n",
       "197768  197768  1354.764778  3218.100625\n",
       "\n",
       "[197769 rows x 3 columns]"
      ]
     },
     "execution_count": 19,
     "metadata": {},
     "output_type": "execute_result"
    }
   ],
   "source": [
    "data"
   ]
  },
  {
   "cell_type": "code",
   "execution_count": null,
   "id": "stupid-genesis",
   "metadata": {},
   "outputs": [],
   "source": []
  }
 ],
 "metadata": {
  "kernelspec": {
   "display_name": "Python 3",
   "language": "python",
   "name": "python3"
  },
  "language_info": {
   "codemirror_mode": {
    "name": "ipython",
    "version": 3
   },
   "file_extension": ".py",
   "mimetype": "text/x-python",
   "name": "python",
   "nbconvert_exporter": "python",
   "pygments_lexer": "ipython3",
   "version": "3.8.5"
  }
 },
 "nbformat": 4,
 "nbformat_minor": 5
}
